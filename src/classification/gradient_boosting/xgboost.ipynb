{
 "cells": [
  {
   "metadata": {},
   "cell_type": "markdown",
   "source": "### Считывание кластеризованных данных",
   "id": "41f2ae7a5544be64"
  },
  {
   "metadata": {
    "ExecuteTime": {
     "end_time": "2025-04-29T17:27:23.111530Z",
     "start_time": "2025-04-29T17:27:23.109016Z"
    }
   },
   "cell_type": "code",
   "source": [
    "import os\n",
    "import pandas as pd\n",
    "\n",
    "os.chdir('../../../')"
   ],
   "id": "9ff1b3f2aa3f07f2",
   "outputs": [],
   "execution_count": 1
  },
  {
   "metadata": {
    "ExecuteTime": {
     "end_time": "2025-04-29T17:27:24.343884Z",
     "start_time": "2025-04-29T17:27:24.287464Z"
    }
   },
   "cell_type": "code",
   "source": [
    "df = pd.read_csv('data/lmsys-chat-1m/processed/kmeans_clusters.csv')\n",
    "df.head()"
   ],
   "id": "b8fbbb2c37488ce1",
   "outputs": [
    {
     "data": {
      "text/plain": [
       "   user_id  neutral_count  positive_count  negative_count  \\\n",
       "0        0       0.000000             1.0        0.000000   \n",
       "1        1       0.333333             0.5        0.166667   \n",
       "2        2       0.000000             1.0        0.000000   \n",
       "3        3       0.500000             0.5        0.000000   \n",
       "4        4       1.000000             0.0        0.000000   \n",
       "\n",
       "   total_reformulations  total_words  total_spelling_errors  total_questions  \\\n",
       "0                   0.0         11.0                    0.0         0.000000   \n",
       "1                   0.5         25.0                    0.5         0.666667   \n",
       "2                   0.0         66.0                    0.0         0.000000   \n",
       "3                   0.0         14.5                    0.0         0.000000   \n",
       "4                   0.0         18.0                    3.0         0.000000   \n",
       "\n",
       "   cluster  \n",
       "0        1  \n",
       "1        1  \n",
       "2        1  \n",
       "3        0  \n",
       "4        0  "
      ],
      "text/html": [
       "<div>\n",
       "<style scoped>\n",
       "    .dataframe tbody tr th:only-of-type {\n",
       "        vertical-align: middle;\n",
       "    }\n",
       "\n",
       "    .dataframe tbody tr th {\n",
       "        vertical-align: top;\n",
       "    }\n",
       "\n",
       "    .dataframe thead th {\n",
       "        text-align: right;\n",
       "    }\n",
       "</style>\n",
       "<table border=\"1\" class=\"dataframe\">\n",
       "  <thead>\n",
       "    <tr style=\"text-align: right;\">\n",
       "      <th></th>\n",
       "      <th>user_id</th>\n",
       "      <th>neutral_count</th>\n",
       "      <th>positive_count</th>\n",
       "      <th>negative_count</th>\n",
       "      <th>total_reformulations</th>\n",
       "      <th>total_words</th>\n",
       "      <th>total_spelling_errors</th>\n",
       "      <th>total_questions</th>\n",
       "      <th>cluster</th>\n",
       "    </tr>\n",
       "  </thead>\n",
       "  <tbody>\n",
       "    <tr>\n",
       "      <th>0</th>\n",
       "      <td>0</td>\n",
       "      <td>0.000000</td>\n",
       "      <td>1.0</td>\n",
       "      <td>0.000000</td>\n",
       "      <td>0.0</td>\n",
       "      <td>11.0</td>\n",
       "      <td>0.0</td>\n",
       "      <td>0.000000</td>\n",
       "      <td>1</td>\n",
       "    </tr>\n",
       "    <tr>\n",
       "      <th>1</th>\n",
       "      <td>1</td>\n",
       "      <td>0.333333</td>\n",
       "      <td>0.5</td>\n",
       "      <td>0.166667</td>\n",
       "      <td>0.5</td>\n",
       "      <td>25.0</td>\n",
       "      <td>0.5</td>\n",
       "      <td>0.666667</td>\n",
       "      <td>1</td>\n",
       "    </tr>\n",
       "    <tr>\n",
       "      <th>2</th>\n",
       "      <td>2</td>\n",
       "      <td>0.000000</td>\n",
       "      <td>1.0</td>\n",
       "      <td>0.000000</td>\n",
       "      <td>0.0</td>\n",
       "      <td>66.0</td>\n",
       "      <td>0.0</td>\n",
       "      <td>0.000000</td>\n",
       "      <td>1</td>\n",
       "    </tr>\n",
       "    <tr>\n",
       "      <th>3</th>\n",
       "      <td>3</td>\n",
       "      <td>0.500000</td>\n",
       "      <td>0.5</td>\n",
       "      <td>0.000000</td>\n",
       "      <td>0.0</td>\n",
       "      <td>14.5</td>\n",
       "      <td>0.0</td>\n",
       "      <td>0.000000</td>\n",
       "      <td>0</td>\n",
       "    </tr>\n",
       "    <tr>\n",
       "      <th>4</th>\n",
       "      <td>4</td>\n",
       "      <td>1.000000</td>\n",
       "      <td>0.0</td>\n",
       "      <td>0.000000</td>\n",
       "      <td>0.0</td>\n",
       "      <td>18.0</td>\n",
       "      <td>3.0</td>\n",
       "      <td>0.000000</td>\n",
       "      <td>0</td>\n",
       "    </tr>\n",
       "  </tbody>\n",
       "</table>\n",
       "</div>"
      ]
     },
     "execution_count": 2,
     "metadata": {},
     "output_type": "execute_result"
    }
   ],
   "execution_count": 2
  },
  {
   "metadata": {},
   "cell_type": "markdown",
   "source": "### Обучение классификатора",
   "id": "c01e427792366d0c"
  },
  {
   "metadata": {
    "ExecuteTime": {
     "end_time": "2025-04-29T17:30:29.801542Z",
     "start_time": "2025-04-29T17:28:40.781737Z"
    }
   },
   "cell_type": "code",
   "source": [
    "from xgboost import XGBClassifier\n",
    "from sklearn.model_selection import RandomizedSearchCV, train_test_split\n",
    "from sklearn.metrics import classification_report\n",
    "from scipy.stats import randint, uniform\n",
    "import time\n",
    "\n",
    "X = df.drop(['user_id', 'cluster'], axis=1)\n",
    "y = df['cluster']\n",
    "\n",
    "X_train, X_test, y_train, y_test = train_test_split(\n",
    "    X, y, test_size=0.2, random_state=42, stratify=y\n",
    ")\n",
    "\n",
    "param_dist_xgb = {\n",
    "    'n_estimators': randint(100, 500),\n",
    "    'max_depth': randint(3, 15),\n",
    "    'learning_rate': uniform(0.01, 0.2),\n",
    "    'subsample': uniform(0.6, 0.4),\n",
    "    'colsample_bytree': uniform(0.6, 0.4),\n",
    "    'gamma': uniform(0, 1),\n",
    "    'reg_alpha': uniform(0, 1),\n",
    "    'reg_lambda': uniform(0, 1)\n",
    "}\n",
    "\n",
    "model_xgb = XGBClassifier(random_state=42, use_label_encoder=False, eval_metric='mlogloss')\n",
    "\n",
    "search_xgb = RandomizedSearchCV(\n",
    "    model_xgb,\n",
    "    param_distributions=param_dist_xgb,\n",
    "    n_iter=20,\n",
    "    scoring='accuracy',\n",
    "    cv=5,\n",
    "    verbose=1,\n",
    "    random_state=42,\n",
    "    n_jobs=-1\n",
    ")\n",
    "\n",
    "start = time.time()\n",
    "search_xgb.fit(X_train, y_train)\n",
    "end = time.time()\n",
    "\n",
    "print(f\"XGBoost — лучшая модель: {search_xgb.best_params_}\")\n",
    "print(f\"Время подбора: {round(end - start, 2)} сек\")\n",
    "\n",
    "y_pred = search_xgb.predict(X_test)\n",
    "print(\"Качество (XGBoost):\")\n",
    "print(classification_report(y_test, y_pred))\n"
   ],
   "id": "ce9350fbded98467",
   "outputs": [
    {
     "name": "stdout",
     "output_type": "stream",
     "text": [
      "Fitting 5 folds for each of 20 candidates, totalling 100 fits\n"
     ]
    },
    {
     "name": "stderr",
     "output_type": "stream",
     "text": [
      "C:\\Users\\hqdem\\PythonProjects\\user-pattern-analysis\\.venv\\Lib\\site-packages\\xgboost\\training.py:183: UserWarning: [20:30:27] WARNING: C:\\actions-runner\\_work\\xgboost\\xgboost\\src\\learner.cc:738: \n",
      "Parameters: { \"use_label_encoder\" } are not used.\n",
      "\n",
      "  bst.update(dtrain, iteration=i, fobj=obj)\n"
     ]
    },
    {
     "name": "stdout",
     "output_type": "stream",
     "text": [
      "XGBoost — лучшая модель: {'colsample_bytree': np.float64(0.7334834444556088), 'gamma': np.float64(0.14286681792194078), 'learning_rate': np.float64(0.14017769458977059), 'max_depth': 7, 'n_estimators': 357, 'reg_alpha': np.float64(0.7219987722668247), 'reg_lambda': np.float64(0.9385527090157502), 'subsample': np.float64(0.6003115063364057)}\n",
      "Время подбора: 108.71 сек\n",
      "Качество (XGBoost):\n",
      "              precision    recall  f1-score   support\n",
      "\n",
      "           0       1.00      1.00      1.00     11437\n",
      "           1       1.00      1.00      1.00      8523\n",
      "           2       1.00      0.99      0.99       324\n",
      "           3       0.99      0.99      0.99      2065\n",
      "           4       1.00      1.00      1.00      3351\n",
      "           5       0.98      0.97      0.97       233\n",
      "\n",
      "    accuracy                           1.00     25933\n",
      "   macro avg       0.99      0.99      0.99     25933\n",
      "weighted avg       1.00      1.00      1.00     25933\n",
      "\n"
     ]
    }
   ],
   "execution_count": 3
  },
  {
   "metadata": {},
   "cell_type": "markdown",
   "source": "### Проверка без дубликатов",
   "id": "d75d706d72971708"
  },
  {
   "metadata": {
    "ExecuteTime": {
     "end_time": "2025-04-29T17:32:12.353157Z",
     "start_time": "2025-04-29T17:31:37.919334Z"
    }
   },
   "cell_type": "code",
   "source": [
    "from xgboost import XGBClassifier\n",
    "from sklearn.model_selection import RandomizedSearchCV, train_test_split\n",
    "from sklearn.metrics import classification_report\n",
    "from scipy.stats import randint, uniform\n",
    "import time\n",
    "\n",
    "X = df.drop(['user_id', 'cluster'], axis=1)\n",
    "y = df['cluster']\n",
    "X = X.drop_duplicates()\n",
    "y = y.loc[X.index]  # пересинхронизация y\n",
    "\n",
    "X_train, X_test, y_train, y_test = train_test_split(\n",
    "    X, y, test_size=0.2, random_state=42, stratify=y\n",
    ")\n",
    "\n",
    "param_dist_xgb = {\n",
    "    'n_estimators': randint(100, 500),\n",
    "    'max_depth': randint(3, 15),\n",
    "    'learning_rate': uniform(0.01, 0.2),\n",
    "    'subsample': uniform(0.6, 0.4),\n",
    "    'colsample_bytree': uniform(0.6, 0.4),\n",
    "    'gamma': uniform(0, 1),\n",
    "    'reg_alpha': uniform(0, 1),\n",
    "    'reg_lambda': uniform(0, 1)\n",
    "}\n",
    "\n",
    "model_xgb = XGBClassifier(random_state=42, use_label_encoder=False, eval_metric='mlogloss')\n",
    "\n",
    "search_xgb = RandomizedSearchCV(\n",
    "    model_xgb,\n",
    "    param_distributions=param_dist_xgb,\n",
    "    n_iter=20,\n",
    "    scoring='accuracy',\n",
    "    cv=5,\n",
    "    verbose=1,\n",
    "    random_state=42,\n",
    "    n_jobs=-1\n",
    ")\n",
    "\n",
    "start = time.time()\n",
    "search_xgb.fit(X_train, y_train)\n",
    "end = time.time()\n",
    "\n",
    "print(f\"XGBoost — лучшая модель: {search_xgb.best_params_}\")\n",
    "print(f\"Время подбора: {round(end - start, 2)} сек\")\n",
    "\n",
    "y_pred = search_xgb.predict(X_test)\n",
    "print(\"Качество (XGBoost):\")\n",
    "print(classification_report(y_test, y_pred))\n"
   ],
   "id": "47a8aee310f4286b",
   "outputs": [
    {
     "name": "stdout",
     "output_type": "stream",
     "text": [
      "Fitting 5 folds for each of 20 candidates, totalling 100 fits\n"
     ]
    },
    {
     "name": "stderr",
     "output_type": "stream",
     "text": [
      "C:\\Users\\hqdem\\PythonProjects\\user-pattern-analysis\\.venv\\Lib\\site-packages\\xgboost\\training.py:183: UserWarning: [20:32:11] WARNING: C:\\actions-runner\\_work\\xgboost\\xgboost\\src\\learner.cc:738: \n",
      "Parameters: { \"use_label_encoder\" } are not used.\n",
      "\n",
      "  bst.update(dtrain, iteration=i, fobj=obj)\n"
     ]
    },
    {
     "name": "stdout",
     "output_type": "stream",
     "text": [
      "XGBoost — лучшая модель: {'colsample_bytree': np.float64(0.7168578594140873), 'gamma': np.float64(0.3663618432936917), 'learning_rate': np.float64(0.10121399684340719), 'max_depth': 5, 'n_estimators': 463, 'reg_alpha': np.float64(0.5142344384136116), 'reg_lambda': np.float64(0.5924145688620425), 'subsample': np.float64(0.6185801650879991)}\n",
      "Время подбора: 34.37 сек\n",
      "Качество (XGBoost):\n",
      "              precision    recall  f1-score   support\n",
      "\n",
      "           0       1.00      1.00      1.00      3096\n",
      "           1       0.99      0.99      0.99      1936\n",
      "           2       0.98      0.99      0.98       252\n",
      "           3       0.99      0.98      0.99      1211\n",
      "           4       0.99      0.99      0.99      1195\n",
      "           5       0.98      0.99      0.99       208\n",
      "\n",
      "    accuracy                           0.99      7898\n",
      "   macro avg       0.99      0.99      0.99      7898\n",
      "weighted avg       0.99      0.99      0.99      7898\n",
      "\n"
     ]
    }
   ],
   "execution_count": 4
  }
 ],
 "metadata": {
  "kernelspec": {
   "display_name": "Python 3",
   "language": "python",
   "name": "python3"
  },
  "language_info": {
   "codemirror_mode": {
    "name": "ipython",
    "version": 2
   },
   "file_extension": ".py",
   "mimetype": "text/x-python",
   "name": "python",
   "nbconvert_exporter": "python",
   "pygments_lexer": "ipython2",
   "version": "2.7.6"
  }
 },
 "nbformat": 4,
 "nbformat_minor": 5
}
