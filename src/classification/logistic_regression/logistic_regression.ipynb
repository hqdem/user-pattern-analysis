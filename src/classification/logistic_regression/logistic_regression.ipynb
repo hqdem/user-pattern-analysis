{
 "cells": [
  {
   "metadata": {},
   "cell_type": "markdown",
   "source": "### Считывание кластеризованных данных",
   "id": "ba9ab3041eaae2c4"
  },
  {
   "metadata": {
    "ExecuteTime": {
     "end_time": "2025-05-01T14:47:04.393780Z",
     "start_time": "2025-05-01T14:47:04.390863Z"
    }
   },
   "cell_type": "code",
   "source": [
    "import os\n",
    "import pandas as pd\n",
    "\n",
    "os.chdir('../../../')"
   ],
   "id": "52e5e6375c53aab6",
   "outputs": [],
   "execution_count": 1
  },
  {
   "metadata": {
    "ExecuteTime": {
     "end_time": "2025-05-01T15:38:38.319364Z",
     "start_time": "2025-05-01T15:38:38.260760Z"
    }
   },
   "cell_type": "code",
   "source": [
    "df = pd.read_csv('data/lmsys-chat-1m/processed/kmeans_clusters.csv')\n",
    "df.head()"
   ],
   "id": "56b01a1de2f08063",
   "outputs": [
    {
     "data": {
      "text/plain": [
       "   user_id  neutral_count  positive_count  negative_count  \\\n",
       "0        0       0.000000             1.0        0.000000   \n",
       "1        1       0.333333             0.5        0.166667   \n",
       "2        2       0.000000             1.0        0.000000   \n",
       "3        3       0.500000             0.5        0.000000   \n",
       "4        4       1.000000             0.0        0.000000   \n",
       "\n",
       "   total_reformulations  total_words  total_spelling_errors  total_questions  \\\n",
       "0                   0.0         11.0                    0.0         0.000000   \n",
       "1                   0.5         25.0                    0.5         0.666667   \n",
       "2                   0.0         66.0                    0.0         0.000000   \n",
       "3                   0.0         14.5                    0.0         0.000000   \n",
       "4                   0.0         18.0                    3.0         0.000000   \n",
       "\n",
       "   cluster  \n",
       "0        1  \n",
       "1        1  \n",
       "2        1  \n",
       "3        0  \n",
       "4        0  "
      ],
      "text/html": [
       "<div>\n",
       "<style scoped>\n",
       "    .dataframe tbody tr th:only-of-type {\n",
       "        vertical-align: middle;\n",
       "    }\n",
       "\n",
       "    .dataframe tbody tr th {\n",
       "        vertical-align: top;\n",
       "    }\n",
       "\n",
       "    .dataframe thead th {\n",
       "        text-align: right;\n",
       "    }\n",
       "</style>\n",
       "<table border=\"1\" class=\"dataframe\">\n",
       "  <thead>\n",
       "    <tr style=\"text-align: right;\">\n",
       "      <th></th>\n",
       "      <th>user_id</th>\n",
       "      <th>neutral_count</th>\n",
       "      <th>positive_count</th>\n",
       "      <th>negative_count</th>\n",
       "      <th>total_reformulations</th>\n",
       "      <th>total_words</th>\n",
       "      <th>total_spelling_errors</th>\n",
       "      <th>total_questions</th>\n",
       "      <th>cluster</th>\n",
       "    </tr>\n",
       "  </thead>\n",
       "  <tbody>\n",
       "    <tr>\n",
       "      <th>0</th>\n",
       "      <td>0</td>\n",
       "      <td>0.000000</td>\n",
       "      <td>1.0</td>\n",
       "      <td>0.000000</td>\n",
       "      <td>0.0</td>\n",
       "      <td>11.0</td>\n",
       "      <td>0.0</td>\n",
       "      <td>0.000000</td>\n",
       "      <td>1</td>\n",
       "    </tr>\n",
       "    <tr>\n",
       "      <th>1</th>\n",
       "      <td>1</td>\n",
       "      <td>0.333333</td>\n",
       "      <td>0.5</td>\n",
       "      <td>0.166667</td>\n",
       "      <td>0.5</td>\n",
       "      <td>25.0</td>\n",
       "      <td>0.5</td>\n",
       "      <td>0.666667</td>\n",
       "      <td>1</td>\n",
       "    </tr>\n",
       "    <tr>\n",
       "      <th>2</th>\n",
       "      <td>2</td>\n",
       "      <td>0.000000</td>\n",
       "      <td>1.0</td>\n",
       "      <td>0.000000</td>\n",
       "      <td>0.0</td>\n",
       "      <td>66.0</td>\n",
       "      <td>0.0</td>\n",
       "      <td>0.000000</td>\n",
       "      <td>1</td>\n",
       "    </tr>\n",
       "    <tr>\n",
       "      <th>3</th>\n",
       "      <td>3</td>\n",
       "      <td>0.500000</td>\n",
       "      <td>0.5</td>\n",
       "      <td>0.000000</td>\n",
       "      <td>0.0</td>\n",
       "      <td>14.5</td>\n",
       "      <td>0.0</td>\n",
       "      <td>0.000000</td>\n",
       "      <td>0</td>\n",
       "    </tr>\n",
       "    <tr>\n",
       "      <th>4</th>\n",
       "      <td>4</td>\n",
       "      <td>1.000000</td>\n",
       "      <td>0.0</td>\n",
       "      <td>0.000000</td>\n",
       "      <td>0.0</td>\n",
       "      <td>18.0</td>\n",
       "      <td>3.0</td>\n",
       "      <td>0.000000</td>\n",
       "      <td>0</td>\n",
       "    </tr>\n",
       "  </tbody>\n",
       "</table>\n",
       "</div>"
      ]
     },
     "execution_count": 14,
     "metadata": {},
     "output_type": "execute_result"
    }
   ],
   "execution_count": 14
  },
  {
   "metadata": {},
   "cell_type": "markdown",
   "source": "### Обучение классификатора",
   "id": "8bd5ebc0641fa7a2"
  },
  {
   "metadata": {
    "ExecuteTime": {
     "end_time": "2025-05-01T15:42:47.240950Z",
     "start_time": "2025-05-01T15:38:39.525754Z"
    }
   },
   "cell_type": "code",
   "source": [
    "from sklearn.linear_model import LogisticRegression\n",
    "from sklearn.model_selection import RandomizedSearchCV, train_test_split\n",
    "from sklearn.metrics import classification_report\n",
    "from scipy.stats import loguniform\n",
    "import time\n",
    "\n",
    "X = df.drop(['user_id', 'cluster'], axis=1)\n",
    "y = df['cluster']\n",
    "\n",
    "X_train, X_test, y_train, y_test = train_test_split(\n",
    "    X, y, test_size=0.2, random_state=42, stratify=y\n",
    ")\n",
    "\n",
    "param_dist_lr = {\n",
    "    'penalty': ['l2', None],\n",
    "    'C': loguniform(1e-3, 10),  # регуляризация\n",
    "    'solver': ['lbfgs', 'saga'],  # saga поддерживает большие и разреженные данные\n",
    "    'max_iter': [500, 1000]\n",
    "}\n",
    "\n",
    "model_lr = LogisticRegression(random_state=42, multi_class='multinomial')\n",
    "\n",
    "search_lr = RandomizedSearchCV(\n",
    "    model_lr,\n",
    "    param_distributions=param_dist_lr,\n",
    "    n_iter=20,\n",
    "    scoring='accuracy',\n",
    "    cv=5,\n",
    "    verbose=1,\n",
    "    random_state=42,\n",
    "    n_jobs=-1\n",
    ")\n",
    "\n",
    "start = time.time()\n",
    "search_lr.fit(X_train, y_train)\n",
    "end = time.time()\n",
    "\n",
    "print(f\"Logistic Regression — лучшая модель: {search_lr.best_params_}\")\n",
    "print(f\"Время подбора: {round(end - start, 2)} сек\")\n",
    "\n",
    "best_model = search_lr.best_estimator_\n",
    "y_pred_lr = best_model.predict(X_test)\n",
    "\n",
    "print(\"Качество (Logistic Regression):\")\n",
    "print(classification_report(y_test, y_pred_lr))\n"
   ],
   "id": "78b77ed732518dc7",
   "outputs": [
    {
     "name": "stdout",
     "output_type": "stream",
     "text": [
      "Fitting 5 folds for each of 20 candidates, totalling 100 fits\n"
     ]
    },
    {
     "name": "stderr",
     "output_type": "stream",
     "text": [
      "C:\\Users\\hqdem\\PythonProjects\\user-pattern-analysis\\.venv\\Lib\\site-packages\\sklearn\\linear_model\\_logistic.py:1207: UserWarning: Setting penalty=None will ignore the C and l1_ratio parameters\n",
      "  warnings.warn(\n",
      "C:\\Users\\hqdem\\PythonProjects\\user-pattern-analysis\\.venv\\Lib\\site-packages\\sklearn\\linear_model\\_logistic.py:1247: FutureWarning: 'multi_class' was deprecated in version 1.5 and will be removed in 1.7. From then on, it will always use 'multinomial'. Leave it to its default value to avoid this warning.\n",
      "  warnings.warn(\n"
     ]
    },
    {
     "name": "stdout",
     "output_type": "stream",
     "text": [
      "Logistic Regression — лучшая модель: {'C': np.float64(0.02161894240657444), 'max_iter': 1000, 'penalty': None, 'solver': 'lbfgs'}\n",
      "Время подбора: 247.67 сек\n",
      "Качество (Logistic Regression):\n",
      "              precision    recall  f1-score   support\n",
      "\n",
      "           0       1.00      1.00      1.00     11437\n",
      "           1       1.00      0.99      0.99      8523\n",
      "           2       0.97      0.97      0.97       324\n",
      "           3       0.98      0.99      0.98      2065\n",
      "           4       0.99      0.99      0.99      3351\n",
      "           5       0.94      0.93      0.94       233\n",
      "\n",
      "    accuracy                           0.99     25933\n",
      "   macro avg       0.98      0.98      0.98     25933\n",
      "weighted avg       0.99      0.99      0.99     25933\n",
      "\n"
     ]
    },
    {
     "name": "stderr",
     "output_type": "stream",
     "text": [
      "C:\\Users\\hqdem\\PythonProjects\\user-pattern-analysis\\.venv\\Lib\\site-packages\\sklearn\\linear_model\\_logistic.py:465: ConvergenceWarning: lbfgs failed to converge (status=1):\n",
      "STOP: TOTAL NO. OF ITERATIONS REACHED LIMIT.\n",
      "\n",
      "Increase the number of iterations (max_iter) or scale the data as shown in:\n",
      "    https://scikit-learn.org/stable/modules/preprocessing.html\n",
      "Please also refer to the documentation for alternative solver options:\n",
      "    https://scikit-learn.org/stable/modules/linear_model.html#logistic-regression\n",
      "  n_iter_i = _check_optimize_result(\n"
     ]
    }
   ],
   "execution_count": 15
  },
  {
   "metadata": {},
   "cell_type": "markdown",
   "source": "### Проверка на переобучение",
   "id": "4733e105949fa4d5"
  },
  {
   "metadata": {
    "ExecuteTime": {
     "end_time": "2025-05-01T15:43:16.467226Z",
     "start_time": "2025-05-01T15:43:16.453584Z"
    }
   },
   "cell_type": "code",
   "source": [
    "train_acc = best_model.score(X_train, y_train)\n",
    "test_acc = best_model.score(X_test, y_test)\n",
    "print(f\"Train accuracy: {train_acc:.4f}\")\n",
    "print(f\"Test accuracy:  {test_acc:.4f}\")"
   ],
   "id": "544f4bfd52767f0f",
   "outputs": [
    {
     "name": "stdout",
     "output_type": "stream",
     "text": [
      "Train accuracy: 0.9932\n",
      "Test accuracy:  0.9932\n"
     ]
    }
   ],
   "execution_count": 16
  },
  {
   "metadata": {
    "ExecuteTime": {
     "end_time": "2025-05-01T15:44:14.295362Z",
     "start_time": "2025-05-01T15:43:17.651277Z"
    }
   },
   "cell_type": "code",
   "source": [
    "from sklearn.model_selection import learning_curve\n",
    "import matplotlib.pyplot as plt\n",
    "import numpy as np\n",
    "\n",
    "train_sizes, train_scores, test_scores = learning_curve(\n",
    "    best_model, X, y,\n",
    "    train_sizes=np.linspace(0.1, 1.0, 10),\n",
    "    cv=5,\n",
    "    scoring='accuracy',\n",
    "    n_jobs=-1\n",
    ")\n",
    "\n",
    "train_mean = train_scores.mean(axis=1)\n",
    "test_mean = test_scores.mean(axis=1)\n",
    "\n",
    "plt.figure(figsize=(8, 5))\n",
    "plt.plot(train_sizes, train_mean, label='Train score')\n",
    "plt.plot(train_sizes, test_mean, label='Validation score')\n",
    "plt.xlabel(\"Размер обучающей выборки\")\n",
    "plt.ylabel(\"Accuracy\")\n",
    "plt.title(\"Кривая обучения\")\n",
    "plt.legend()\n",
    "plt.grid(True)\n",
    "plt.tight_layout()\n",
    "plt.show()\n"
   ],
   "id": "f3d70ce06c2f00c9",
   "outputs": [
    {
     "data": {
      "text/plain": [
       "<Figure size 800x500 with 1 Axes>"
      ],
      "image/png": "[encoded data removed]"
     },
     "metadata": {},
     "output_type": "display_data"
    }
   ],
   "execution_count": 17
  },
  {
   "metadata": {},
   "cell_type": "markdown",
   "source": "### Сохраняем модель",
   "id": "cd58831bf32a97b5"
  },
  {
   "metadata": {
    "ExecuteTime": {
     "end_time": "2025-05-01T15:44:17.501198Z",
     "start_time": "2025-05-01T15:44:17.496697Z"
    }
   },
   "cell_type": "code",
   "source": [
    "import joblib\n",
    "\n",
    "joblib.dump(best_model, 'models/logistic_regression/model.pkl')"
   ],
   "id": "fe1f174e2ccadcba",
   "outputs": [
    {
     "data": {
      "text/plain": [
       "['models/logistic_regression/model.pkl']"
      ]
     },
     "execution_count": 18,
     "metadata": {},
     "output_type": "execute_result"
    }
   ],
   "execution_count": 18
  },
  {
   "metadata": {},
   "cell_type": "markdown",
   "source": "### Проверка без дубликатов",
   "id": "d656c33784762dfa"
  },
  {
   "metadata": {
    "ExecuteTime": {
     "end_time": "2025-05-01T15:45:18.800291Z",
     "start_time": "2025-05-01T15:44:19.915058Z"
    }
   },
   "cell_type": "code",
   "source": [
    "from sklearn.linear_model import LogisticRegression\n",
    "from sklearn.model_selection import RandomizedSearchCV, train_test_split\n",
    "from sklearn.metrics import classification_report\n",
    "from scipy.stats import loguniform\n",
    "import time\n",
    "\n",
    "X = df.drop(['user_id', 'cluster'], axis=1)\n",
    "y = df['cluster']\n",
    "X = X.drop_duplicates()\n",
    "y = y.loc[X.index]  # пересинхронизация y\n",
    "\n",
    "X_train, X_test, y_train, y_test = train_test_split(\n",
    "    X, y, test_size=0.2, random_state=42, stratify=y\n",
    ")\n",
    "\n",
    "param_dist_lr = {\n",
    "    'penalty': ['l2', None],\n",
    "    'C': loguniform(1e-3, 10),  # регуляризация\n",
    "    'solver': ['lbfgs', 'saga'],  # saga поддерживает большие и разреженные данные\n",
    "    'max_iter': [500, 1000]\n",
    "}\n",
    "\n",
    "model_lr = LogisticRegression(random_state=42, multi_class='multinomial')\n",
    "\n",
    "search_lr = RandomizedSearchCV(\n",
    "    model_lr,\n",
    "    param_distributions=param_dist_lr,\n",
    "    n_iter=20,\n",
    "    scoring='accuracy',\n",
    "    cv=5,\n",
    "    verbose=1,\n",
    "    random_state=42,\n",
    "    n_jobs=-1\n",
    ")\n",
    "\n",
    "start = time.time()\n",
    "search_lr.fit(X_train, y_train)\n",
    "end = time.time()\n",
    "\n",
    "print(f\"Logistic Regression — лучшая модель: {search_lr.best_params_}\")\n",
    "print(f\"Время подбора: {round(end - start, 2)} сек\")\n",
    "\n",
    "best_model = search_lr.best_estimator_\n",
    "y_pred_lr = best_model.predict(X_test)\n",
    "\n",
    "print(\"Качество (Logistic Regression):\")\n",
    "print(classification_report(y_test, y_pred_lr))\n"
   ],
   "id": "cebe1b76fbbb8d8c",
   "outputs": [
    {
     "name": "stdout",
     "output_type": "stream",
     "text": [
      "Fitting 5 folds for each of 20 candidates, totalling 100 fits\n"
     ]
    },
    {
     "name": "stderr",
     "output_type": "stream",
     "text": [
      "C:\\Users\\hqdem\\PythonProjects\\user-pattern-analysis\\.venv\\Lib\\site-packages\\sklearn\\linear_model\\_logistic.py:1207: UserWarning: Setting penalty=None will ignore the C and l1_ratio parameters\n",
      "  warnings.warn(\n",
      "C:\\Users\\hqdem\\PythonProjects\\user-pattern-analysis\\.venv\\Lib\\site-packages\\sklearn\\linear_model\\_logistic.py:1247: FutureWarning: 'multi_class' was deprecated in version 1.5 and will be removed in 1.7. From then on, it will always use 'multinomial'. Leave it to its default value to avoid this warning.\n",
      "  warnings.warn(\n"
     ]
    },
    {
     "name": "stdout",
     "output_type": "stream",
     "text": [
      "Logistic Regression — лучшая модель: {'C': np.float64(0.02161894240657444), 'max_iter': 1000, 'penalty': None, 'solver': 'lbfgs'}\n",
      "Время подбора: 58.84 сек\n",
      "Качество (Logistic Regression):\n",
      "              precision    recall  f1-score   support\n",
      "\n",
      "           0       0.99      1.00      0.99      3096\n",
      "           1       0.99      0.98      0.98      1936\n",
      "           2       0.98      0.98      0.98       252\n",
      "           3       0.97      0.97      0.97      1211\n",
      "           4       0.98      0.98      0.98      1195\n",
      "           5       0.93      0.99      0.96       208\n",
      "\n",
      "    accuracy                           0.98      7898\n",
      "   macro avg       0.97      0.98      0.98      7898\n",
      "weighted avg       0.98      0.98      0.98      7898\n",
      "\n"
     ]
    },
    {
     "name": "stderr",
     "output_type": "stream",
     "text": [
      "C:\\Users\\hqdem\\PythonProjects\\user-pattern-analysis\\.venv\\Lib\\site-packages\\sklearn\\linear_model\\_logistic.py:465: ConvergenceWarning: lbfgs failed to converge (status=1):\n",
      "STOP: TOTAL NO. OF ITERATIONS REACHED LIMIT.\n",
      "\n",
      "Increase the number of iterations (max_iter) or scale the data as shown in:\n",
      "    https://scikit-learn.org/stable/modules/preprocessing.html\n",
      "Please also refer to the documentation for alternative solver options:\n",
      "    https://scikit-learn.org/stable/modules/linear_model.html#logistic-regression\n",
      "  n_iter_i = _check_optimize_result(\n"
     ]
    }
   ],
   "execution_count": 19
  },
  {
   "metadata": {},
   "cell_type": "markdown",
   "source": "### Проверка на переобучение",
   "id": "edcca9788703c17e"
  },
  {
   "metadata": {
    "ExecuteTime": {
     "end_time": "2025-05-01T15:47:50.875157Z",
     "start_time": "2025-05-01T15:47:50.867088Z"
    }
   },
   "cell_type": "code",
   "source": [
    "train_acc = best_model.score(X_train, y_train)\n",
    "test_acc = best_model.score(X_test, y_test)\n",
    "print(f\"Train accuracy: {train_acc:.4f}\")\n",
    "print(f\"Test accuracy:  {test_acc:.4f}\")"
   ],
   "id": "bcbc194fc7285023",
   "outputs": [
    {
     "name": "stdout",
     "output_type": "stream",
     "text": [
      "Train accuracy: 0.9840\n",
      "Test accuracy:  0.9846\n"
     ]
    }
   ],
   "execution_count": 20
  },
  {
   "metadata": {
    "ExecuteTime": {
     "end_time": "2025-05-01T15:48:24.890598Z",
     "start_time": "2025-05-01T15:48:09.849606Z"
    }
   },
   "cell_type": "code",
   "source": [
    "from sklearn.model_selection import learning_curve\n",
    "import matplotlib.pyplot as plt\n",
    "import numpy as np\n",
    "\n",
    "train_sizes, train_scores, test_scores = learning_curve(\n",
    "    best_model, X, y,\n",
    "    train_sizes=np.linspace(0.1, 1.0, 10),\n",
    "    cv=5,\n",
    "    scoring='accuracy',\n",
    "    n_jobs=-1\n",
    ")\n",
    "\n",
    "train_mean = train_scores.mean(axis=1)\n",
    "test_mean = test_scores.mean(axis=1)\n",
    "\n",
    "plt.figure(figsize=(8, 5))\n",
    "plt.plot(train_sizes, train_mean, label='Train score')\n",
    "plt.plot(train_sizes, test_mean, label='Validation score')\n",
    "plt.xlabel(\"Размер обучающей выборки\")\n",
    "plt.ylabel(\"Accuracy\")\n",
    "plt.title(\"Кривая обучения\")\n",
    "plt.legend()\n",
    "plt.grid(True)\n",
    "plt.tight_layout()\n",
    "plt.show()\n"
   ],
   "id": "cfd070e001f56255",
   "outputs": [
    {
     "data": {
      "text/plain": [
       "<Figure size 800x500 with 1 Axes>"
      ],
      "image/png": "[encoded data removed]"
     },
     "metadata": {},
     "output_type": "display_data"
    }
   ],
   "execution_count": 22
  },
  {
   "metadata": {},
   "cell_type": "markdown",
   "source": "### Сохраняем модель",
   "id": "92a74601f5ce474"
  },
  {
   "metadata": {
    "ExecuteTime": {
     "end_time": "2025-05-01T15:48:27.998575Z",
     "start_time": "2025-05-01T15:48:27.994205Z"
    }
   },
   "cell_type": "code",
   "source": [
    "import joblib\n",
    "\n",
    "joblib.dump(best_model, 'models/logistic_regression/model_wo_duplicates.pkl')"
   ],
   "id": "902e2b9eaa38116e",
   "outputs": [
    {
     "data": {
      "text/plain": [
       "['models/logistic_regression/model_wo_duplicates.pkl']"
      ]
     },
     "execution_count": 23,
     "metadata": {},
     "output_type": "execute_result"
    }
   ],
   "execution_count": 23
  }
 ],
 "metadata": {
  "kernelspec": {
   "display_name": "Python 3",
   "language": "python",
   "name": "python3"
  },
  "language_info": {
   "codemirror_mode": {
    "name": "ipython",
    "version": 2
   },
   "file_extension": ".py",
   "mimetype": "text/x-python",
   "name": "python",
   "nbconvert_exporter": "python",
   "pygments_lexer": "ipython2",
   "version": "2.7.6"
  }
 },
 "nbformat": 4,
 "nbformat_minor": 5
}
