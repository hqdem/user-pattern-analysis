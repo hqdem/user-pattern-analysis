{
 "cells": [
  {
   "metadata": {},
   "cell_type": "markdown",
   "source": "### Считывание кластеризованных данных",
   "id": "5d65ef65c1e13509"
  },
  {
   "metadata": {
    "ExecuteTime": {
     "end_time": "2025-05-01T14:42:28.490582Z",
     "start_time": "2025-05-01T14:42:28.488246Z"
    }
   },
   "cell_type": "code",
   "source": [
    "import os\n",
    "import pandas as pd\n",
    "\n",
    "os.chdir('../../../')"
   ],
   "id": "582066e5a9f90771",
   "outputs": [],
   "execution_count": 1
  },
  {
   "metadata": {
    "ExecuteTime": {
     "end_time": "2025-05-01T15:34:51.507058Z",
     "start_time": "2025-05-01T15:34:51.451186Z"
    }
   },
   "cell_type": "code",
   "source": [
    "df = pd.read_csv('data/lmsys-chat-1m/processed/kmeans_clusters.csv')\n",
    "df.head()"
   ],
   "id": "ce181399d99f1b91",
   "outputs": [
    {
     "data": {
      "text/plain": [
       "   user_id  neutral_count  positive_count  negative_count  \\\n",
       "0        0       0.000000             1.0        0.000000   \n",
       "1        1       0.333333             0.5        0.166667   \n",
       "2        2       0.000000             1.0        0.000000   \n",
       "3        3       0.500000             0.5        0.000000   \n",
       "4        4       1.000000             0.0        0.000000   \n",
       "\n",
       "   total_reformulations  total_words  total_spelling_errors  total_questions  \\\n",
       "0                   0.0         11.0                    0.0         0.000000   \n",
       "1                   0.5         25.0                    0.5         0.666667   \n",
       "2                   0.0         66.0                    0.0         0.000000   \n",
       "3                   0.0         14.5                    0.0         0.000000   \n",
       "4                   0.0         18.0                    3.0         0.000000   \n",
       "\n",
       "   cluster  \n",
       "0        1  \n",
       "1        1  \n",
       "2        1  \n",
       "3        0  \n",
       "4        0  "
      ],
      "text/html": [
       "<div>\n",
       "<style scoped>\n",
       "    .dataframe tbody tr th:only-of-type {\n",
       "        vertical-align: middle;\n",
       "    }\n",
       "\n",
       "    .dataframe tbody tr th {\n",
       "        vertical-align: top;\n",
       "    }\n",
       "\n",
       "    .dataframe thead th {\n",
       "        text-align: right;\n",
       "    }\n",
       "</style>\n",
       "<table border=\"1\" class=\"dataframe\">\n",
       "  <thead>\n",
       "    <tr style=\"text-align: right;\">\n",
       "      <th></th>\n",
       "      <th>user_id</th>\n",
       "      <th>neutral_count</th>\n",
       "      <th>positive_count</th>\n",
       "      <th>negative_count</th>\n",
       "      <th>total_reformulations</th>\n",
       "      <th>total_words</th>\n",
       "      <th>total_spelling_errors</th>\n",
       "      <th>total_questions</th>\n",
       "      <th>cluster</th>\n",
       "    </tr>\n",
       "  </thead>\n",
       "  <tbody>\n",
       "    <tr>\n",
       "      <th>0</th>\n",
       "      <td>0</td>\n",
       "      <td>0.000000</td>\n",
       "      <td>1.0</td>\n",
       "      <td>0.000000</td>\n",
       "      <td>0.0</td>\n",
       "      <td>11.0</td>\n",
       "      <td>0.0</td>\n",
       "      <td>0.000000</td>\n",
       "      <td>1</td>\n",
       "    </tr>\n",
       "    <tr>\n",
       "      <th>1</th>\n",
       "      <td>1</td>\n",
       "      <td>0.333333</td>\n",
       "      <td>0.5</td>\n",
       "      <td>0.166667</td>\n",
       "      <td>0.5</td>\n",
       "      <td>25.0</td>\n",
       "      <td>0.5</td>\n",
       "      <td>0.666667</td>\n",
       "      <td>1</td>\n",
       "    </tr>\n",
       "    <tr>\n",
       "      <th>2</th>\n",
       "      <td>2</td>\n",
       "      <td>0.000000</td>\n",
       "      <td>1.0</td>\n",
       "      <td>0.000000</td>\n",
       "      <td>0.0</td>\n",
       "      <td>66.0</td>\n",
       "      <td>0.0</td>\n",
       "      <td>0.000000</td>\n",
       "      <td>1</td>\n",
       "    </tr>\n",
       "    <tr>\n",
       "      <th>3</th>\n",
       "      <td>3</td>\n",
       "      <td>0.500000</td>\n",
       "      <td>0.5</td>\n",
       "      <td>0.000000</td>\n",
       "      <td>0.0</td>\n",
       "      <td>14.5</td>\n",
       "      <td>0.0</td>\n",
       "      <td>0.000000</td>\n",
       "      <td>0</td>\n",
       "    </tr>\n",
       "    <tr>\n",
       "      <th>4</th>\n",
       "      <td>4</td>\n",
       "      <td>1.000000</td>\n",
       "      <td>0.0</td>\n",
       "      <td>0.000000</td>\n",
       "      <td>0.0</td>\n",
       "      <td>18.0</td>\n",
       "      <td>3.0</td>\n",
       "      <td>0.000000</td>\n",
       "      <td>0</td>\n",
       "    </tr>\n",
       "  </tbody>\n",
       "</table>\n",
       "</div>"
      ]
     },
     "execution_count": 14,
     "metadata": {},
     "output_type": "execute_result"
    }
   ],
   "execution_count": 14
  },
  {
   "metadata": {},
   "cell_type": "markdown",
   "source": "### Обучение классификатора\n",
   "id": "341bf7fec55e3f08"
  },
  {
   "metadata": {
    "ExecuteTime": {
     "end_time": "2025-05-01T15:36:39.670937Z",
     "start_time": "2025-05-01T15:34:53.003966Z"
    }
   },
   "cell_type": "code",
   "source": [
    "from sklearn.ensemble import RandomForestClassifier\n",
    "from sklearn.model_selection import RandomizedSearchCV, train_test_split\n",
    "from sklearn.metrics import classification_report\n",
    "from scipy.stats import randint\n",
    "import time\n",
    "\n",
    "X = df.drop(['user_id', 'cluster'], axis=1)\n",
    "y = df['cluster']\n",
    "\n",
    "X_train, X_test, y_train, y_test = train_test_split(\n",
    "    X, y, test_size=0.2, random_state=42, stratify=y\n",
    ")\n",
    "\n",
    "param_dist = {\n",
    "    \"n_estimators\": randint(100, 500),\n",
    "    \"max_depth\": [None] + list(range(5, 30, 5)),\n",
    "    \"min_samples_split\": [2, 5, 10],\n",
    "    \"min_samples_leaf\": [1, 2, 4],\n",
    "    \"max_features\": ['sqrt', 'log2', None]\n",
    "}\n",
    "\n",
    "model = RandomForestClassifier(random_state=42, n_jobs=-1)\n",
    "search = RandomizedSearchCV(\n",
    "    model,\n",
    "    param_distributions=param_dist,\n",
    "    n_iter=20,\n",
    "    cv=5,\n",
    "    verbose=1,\n",
    "    scoring='accuracy',\n",
    "    random_state=42,\n",
    "    n_jobs=-1\n",
    ")\n",
    "\n",
    "start = time.time()\n",
    "search.fit(X_train, y_train)\n",
    "end = time.time()\n",
    "\n",
    "print(f\"Лучшая модель: {search.best_params_}\")\n",
    "print(f\"Время подбора: {round(end - start, 2)} секунд\")\n",
    "\n",
    "best_model = search.best_estimator_\n",
    "y_pred = best_model.predict(X_test)\n",
    "\n",
    "print(\"Результаты на тесте:\")\n",
    "print(classification_report(y_test, y_pred))\n"
   ],
   "id": "fc4b0135ae4aea10",
   "outputs": [
    {
     "name": "stdout",
     "output_type": "stream",
     "text": [
      "Fitting 5 folds for each of 20 candidates, totalling 100 fits\n",
      "Лучшая модель: {'max_depth': 15, 'max_features': 'sqrt', 'min_samples_leaf': 1, 'min_samples_split': 5, 'n_estimators': 121}\n",
      "Время подбора: 106.58 секунд\n",
      "Результаты на тесте:\n",
      "              precision    recall  f1-score   support\n",
      "\n",
      "           0       1.00      1.00      1.00     11437\n",
      "           1       1.00      1.00      1.00      8523\n",
      "           2       1.00      0.99      1.00       324\n",
      "           3       0.99      0.99      0.99      2065\n",
      "           4       1.00      1.00      1.00      3351\n",
      "           5       1.00      0.99      0.99       233\n",
      "\n",
      "    accuracy                           1.00     25933\n",
      "   macro avg       1.00      0.99      1.00     25933\n",
      "weighted avg       1.00      1.00      1.00     25933\n",
      "\n"
     ]
    }
   ],
   "execution_count": 15
  },
  {
   "metadata": {},
   "cell_type": "markdown",
   "source": [
    "### Почему такие хорошие параметры\n",
    "\n",
    "Скорее всего, random forest очень хорошо справился из-за дублей. Однако:\n",
    "\n",
    "- Мы работаем с нормализованными поведенческими признаками;\n",
    "- Важна типология пользователей — а она по определению может повторяться;\n",
    "- Большинство пользователей короткие (мало слов) — значит, дубли - неотъемлемая часть типового кластера.\n",
    "\n",
    "Таким образом - дублирование является следствием реального распределения поведения пользователей, где однотипные паттерны повторяются.\n"
   ],
   "id": "b4ca84f8b45835a4"
  },
  {
   "metadata": {},
   "cell_type": "markdown",
   "source": "### Проверка на переобучение",
   "id": "1213dc8a9154c515"
  },
  {
   "metadata": {
    "ExecuteTime": {
     "end_time": "2025-05-01T15:36:50.590903Z",
     "start_time": "2025-05-01T15:36:50.457574Z"
    }
   },
   "cell_type": "code",
   "source": [
    "train_acc = best_model.score(X_train, y_train)\n",
    "test_acc = best_model.score(X_test, y_test)\n",
    "print(f\"Train accuracy: {train_acc:.4f}\")\n",
    "print(f\"Test accuracy:  {test_acc:.4f}\")"
   ],
   "id": "901bfb4b64d8413a",
   "outputs": [
    {
     "name": "stdout",
     "output_type": "stream",
     "text": [
      "Train accuracy: 0.9998\n",
      "Test accuracy:  0.9981\n"
     ]
    }
   ],
   "execution_count": 16
  },
  {
   "metadata": {
    "ExecuteTime": {
     "end_time": "2025-05-01T15:37:07.754719Z",
     "start_time": "2025-05-01T15:36:51.913067Z"
    }
   },
   "cell_type": "code",
   "source": [
    "from sklearn.model_selection import learning_curve\n",
    "import matplotlib.pyplot as plt\n",
    "import numpy as np\n",
    "\n",
    "train_sizes, train_scores, test_scores = learning_curve(\n",
    "    best_model, X, y,\n",
    "    train_sizes=np.linspace(0.1, 1.0, 10),\n",
    "    cv=5,\n",
    "    scoring='accuracy',\n",
    "    n_jobs=-1\n",
    ")\n",
    "\n",
    "train_mean = train_scores.mean(axis=1)\n",
    "test_mean = test_scores.mean(axis=1)\n",
    "\n",
    "plt.figure(figsize=(8, 5))\n",
    "plt.plot(train_sizes, train_mean, label='Train score')\n",
    "plt.plot(train_sizes, test_mean, label='Validation score')\n",
    "plt.xlabel(\"Размер обучающей выборки\")\n",
    "plt.ylabel(\"Accuracy\")\n",
    "plt.title(\"Кривая обучения\")\n",
    "plt.legend()\n",
    "plt.grid(True)\n",
    "plt.tight_layout()\n",
    "plt.show()\n"
   ],
   "id": "2ef8d4e40b6745bc",
   "outputs": [
    {
     "data": {
      "text/plain": [
       "<Figure size 800x500 with 1 Axes>"
      ],
      "image/png": "[encoded data removed]"
     },
     "metadata": {},
     "output_type": "display_data"
    }
   ],
   "execution_count": 17
  },
  {
   "metadata": {},
   "cell_type": "markdown",
   "source": "### Сохраняем модель",
   "id": "e952736fee2ceb86"
  },
  {
   "metadata": {
    "ExecuteTime": {
     "end_time": "2025-05-01T15:37:10.573752Z",
     "start_time": "2025-05-01T15:37:10.548241Z"
    }
   },
   "cell_type": "code",
   "source": [
    "import joblib\n",
    "\n",
    "joblib.dump(best_model, 'models/random_forest/model.pkl')"
   ],
   "id": "cd758fff8f0d4616",
   "outputs": [
    {
     "data": {
      "text/plain": [
       "['models/random_forest/model.pkl']"
      ]
     },
     "execution_count": 18,
     "metadata": {},
     "output_type": "execute_result"
    }
   ],
   "execution_count": 18
  },
  {
   "metadata": {},
   "cell_type": "markdown",
   "source": "### Проверка без дубликатов",
   "id": "16a3470f80da164d"
  },
  {
   "metadata": {
    "ExecuteTime": {
     "end_time": "2025-05-01T15:38:13.392852Z",
     "start_time": "2025-05-01T15:37:32.598269Z"
    }
   },
   "cell_type": "code",
   "source": [
    "from sklearn.ensemble import RandomForestClassifier\n",
    "from sklearn.model_selection import RandomizedSearchCV, train_test_split\n",
    "from sklearn.metrics import classification_report\n",
    "from scipy.stats import randint\n",
    "import time\n",
    "\n",
    "X = df.drop(['user_id', 'cluster'], axis=1)\n",
    "y = df['cluster']\n",
    "X = X.drop_duplicates()\n",
    "y = y.loc[X.index]  # пересинхронизация y\n",
    "\n",
    "print(f\"Размер X после drop_duplicates(): {X.shape[0]}\")\n",
    "\n",
    "\n",
    "X_train, X_test, y_train, y_test = train_test_split(\n",
    "    X, y, test_size=0.2, random_state=42, stratify=y\n",
    ")\n",
    "\n",
    "param_dist = {\n",
    "    \"n_estimators\": randint(100, 500),\n",
    "    \"max_depth\": [None] + list(range(5, 30, 5)),\n",
    "    \"min_samples_split\": [2, 5, 10],\n",
    "    \"min_samples_leaf\": [1, 2, 4],\n",
    "    \"max_features\": ['sqrt', 'log2', None]\n",
    "}\n",
    "\n",
    "model = RandomForestClassifier(random_state=42, n_jobs=-1)\n",
    "search = RandomizedSearchCV(\n",
    "    model,\n",
    "    param_distributions=param_dist,\n",
    "    n_iter=20,  # можно увеличить\n",
    "    cv=5,\n",
    "    verbose=1,\n",
    "    scoring='accuracy',\n",
    "    random_state=42,\n",
    "    n_jobs=-1\n",
    ")\n",
    "\n",
    "start = time.time()\n",
    "search.fit(X_train, y_train)\n",
    "end = time.time()\n",
    "\n",
    "print(f\"Лучшая модель: {search.best_params_}\")\n",
    "print(f\"Время подбора: {round(end - start, 2)} секунд\")\n",
    "\n",
    "best_model = search.best_estimator_\n",
    "y_pred = best_model.predict(X_test)\n",
    "\n",
    "print(\"Результаты на тесте:\")\n",
    "print(classification_report(y_test, y_pred))\n"
   ],
   "id": "c4ec67e5e9b70485",
   "outputs": [
    {
     "name": "stdout",
     "output_type": "stream",
     "text": [
      "Размер X после drop_duplicates(): 39489\n",
      "Fitting 5 folds for each of 20 candidates, totalling 100 fits\n",
      "Лучшая модель: {'max_depth': 15, 'max_features': 'sqrt', 'min_samples_leaf': 1, 'min_samples_split': 5, 'n_estimators': 121}\n",
      "Время подбора: 40.73 секунд\n",
      "Результаты на тесте:\n",
      "              precision    recall  f1-score   support\n",
      "\n",
      "           0       1.00      1.00      1.00      3096\n",
      "           1       0.99      0.99      0.99      1936\n",
      "           2       0.99      0.99      0.99       252\n",
      "           3       0.99      0.98      0.99      1211\n",
      "           4       0.99      0.99      0.99      1195\n",
      "           5       0.98      0.99      0.98       208\n",
      "\n",
      "    accuracy                           0.99      7898\n",
      "   macro avg       0.99      0.99      0.99      7898\n",
      "weighted avg       0.99      0.99      0.99      7898\n",
      "\n"
     ]
    }
   ],
   "execution_count": 19
  },
  {
   "metadata": {},
   "cell_type": "markdown",
   "source": "### Проверка на переобучение",
   "id": "5dd9d31c5719ce72"
  },
  {
   "metadata": {
    "ExecuteTime": {
     "end_time": "2025-05-01T15:38:18.808778Z",
     "start_time": "2025-05-01T15:38:18.742227Z"
    }
   },
   "cell_type": "code",
   "source": [
    "train_acc = best_model.score(X_train, y_train)\n",
    "test_acc = best_model.score(X_test, y_test)\n",
    "print(f\"Train accuracy: {train_acc:.4f}\")\n",
    "print(f\"Test accuracy:  {test_acc:.4f}\")\n"
   ],
   "id": "a833df56e73e6c4",
   "outputs": [
    {
     "name": "stdout",
     "output_type": "stream",
     "text": [
      "Train accuracy: 0.9995\n",
      "Test accuracy:  0.9918\n"
     ]
    }
   ],
   "execution_count": 20
  },
  {
   "metadata": {
    "ExecuteTime": {
     "end_time": "2025-05-01T15:38:25.965073Z",
     "start_time": "2025-05-01T15:38:19.914390Z"
    }
   },
   "cell_type": "code",
   "source": [
    "from sklearn.model_selection import learning_curve\n",
    "import matplotlib.pyplot as plt\n",
    "import numpy as np\n",
    "\n",
    "train_sizes, train_scores, test_scores = learning_curve(\n",
    "    best_model, X, y,\n",
    "    train_sizes=np.linspace(0.1, 1.0, 10),\n",
    "    cv=5,\n",
    "    scoring='accuracy',\n",
    "    n_jobs=-1\n",
    ")\n",
    "\n",
    "train_mean = train_scores.mean(axis=1)\n",
    "test_mean = test_scores.mean(axis=1)\n",
    "\n",
    "plt.figure(figsize=(8, 5))\n",
    "plt.plot(train_sizes, train_mean, label='Train score')\n",
    "plt.plot(train_sizes, test_mean, label='Validation score')\n",
    "plt.xlabel(\"Размер обучающей выборки\")\n",
    "plt.ylabel(\"Accuracy\")\n",
    "plt.title(\"Кривая обучения\")\n",
    "plt.legend()\n",
    "plt.grid(True)\n",
    "plt.tight_layout()\n",
    "plt.show()\n"
   ],
   "id": "10f2f71007cbf27",
   "outputs": [
    {
     "data": {
      "text/plain": [
       "<Figure size 800x500 with 1 Axes>"
      ],
      "image/png": "[encoded data removed]"
     },
     "metadata": {},
     "output_type": "display_data"
    }
   ],
   "execution_count": 21
  },
  {
   "metadata": {},
   "cell_type": "markdown",
   "source": "### Сохраняем модель",
   "id": "e0b165d5932b54e8"
  },
  {
   "metadata": {
    "ExecuteTime": {
     "end_time": "2025-05-01T15:38:28.518087Z",
     "start_time": "2025-05-01T15:38:28.493172Z"
    }
   },
   "cell_type": "code",
   "source": [
    "import joblib\n",
    "\n",
    "joblib.dump(best_model, 'models/random_forest/model_wo_duplicates.pkl')"
   ],
   "id": "54b907e00a89a926",
   "outputs": [
    {
     "data": {
      "text/plain": [
       "['models/random_forest/model_wo_duplicates.pkl']"
      ]
     },
     "execution_count": 22,
     "metadata": {},
     "output_type": "execute_result"
    }
   ],
   "execution_count": 22
  }
 ],
 "metadata": {
  "kernelspec": {
   "display_name": "Python 3",
   "language": "python",
   "name": "python3"
  },
  "language_info": {
   "codemirror_mode": {
    "name": "ipython",
    "version": 2
   },
   "file_extension": ".py",
   "mimetype": "text/x-python",
   "name": "python",
   "nbconvert_exporter": "python",
   "pygments_lexer": "ipython2",
   "version": "2.7.6"
  }
 },
 "nbformat": 4,
 "nbformat_minor": 5
}
